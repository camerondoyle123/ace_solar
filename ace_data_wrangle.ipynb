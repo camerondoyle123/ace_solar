{
 "cells": [
  {
   "cell_type": "code",
   "execution_count": null,
   "metadata": {},
   "outputs": [],
   "source": [
    "import pandas as pd\n",
    "import sys\n",
    "import re\n",
    "import os\n",
    "import matplotlib.pyplot as plt\n",
    "from mpl_toolkits.mplot3d import Axes3D\n",
    "import seaborn as sns\n",
    "import numpy as np\n",
    "import gif\n",
    "import pylab"
   ]
  },
  {
   "cell_type": "code",
   "execution_count": null,
   "metadata": {},
   "outputs": [],
   "source": [
    "os.listdir()"
   ]
  },
  {
   "cell_type": "code",
   "execution_count": null,
   "metadata": {},
   "outputs": [],
   "source": [
    "ace_data = pd.read_csv('ACE_MAGSWE_Data.txt', delimiter=' ')\n",
    "ace_hour = pd.read_csv('full_mag_data.txt', delimiter=' ')"
   ]
  },
  {
   "cell_type": "code",
   "execution_count": null,
   "metadata": {},
   "outputs": [],
   "source": [
    "ace_data.head()"
   ]
  },
  {
   "cell_type": "code",
   "execution_count": null,
   "metadata": {},
   "outputs": [],
   "source": [
    "# Handy stuff\n",
    "ace_data = ace_data[ace_data.bgsex != -9999.9]\n",
    "ace_data = ace_data[ace_data.bgsey != -9999.9]\n",
    "ace_data = ace_data[ace_data.bgsez != -9999.9]\n",
    "\n",
    "ace_hour = ace_hour[ace_hour.b_gse_x != -9999.9]\n",
    "ace_hour = ace_hour[ace_hour.b_gse_y != -9999.9]\n",
    "ace_hour = ace_hour[ace_hour.b_gse_z != -9999.9]\n",
    "\n",
    "\n",
    "# Use this to cycle through the days required and make a gif\n",
    "days_needed = ace_hour['day'].unique().tolist()\n",
    "hours_needed = ace_hour['hr'].unique().tolist()"
   ]
  },
  {
   "cell_type": "code",
   "execution_count": null,
   "metadata": {},
   "outputs": [],
   "source": [
    "xmin = ace_hour.b_gse_x.min()\n",
    "xmax = ace_hour.b_gse_x.max()\n",
    "ymin = ace_hour.b_gse_y.min()\n",
    "ymax = ace_hour.b_gse_y.max()\n",
    "\n",
    "@gif.frame\n",
    "def space_plot(day, df):\n",
    "    data = df[df.day == day]\n",
    "    hours_needed = data['hr'].unique().tolist()\n",
    "    \n",
    "    for hr in hours_needed:\n",
    "        data = data[data.hr == hr]\n",
    "        x_border = [xmin, xmax]\n",
    "        y_border = [ymin, ymax]\n",
    "\n",
    "        x_data = data.b_gse_x.append(pd.Series(xmax))\n",
    "        x_data = x_data.append(pd.Series(xmin))\n",
    "        y_data = data.b_gse_y.append(pd.Series(ymax))\n",
    "        y_data = y_data.append(pd.Series(ymin))\n",
    "        \n",
    "        grid_setting = 50\n",
    "        \n",
    "        fig, axs = plt.subplots(ncols=2, sharey=True, figsize=(14, 8))\n",
    "        fig.subplots_adjust(hspace=0.5, left=0.07, right=0.93)\n",
    "        fig.patch.set_facecolor('white')\n",
    "        fig.patch.set_alpha(1)\n",
    "        ax = axs[0]\n",
    "        hb = ax.hexbin(x_data, y_data, cmap='inferno', \n",
    "                       gridsize=(grid_setting,grid_setting))\n",
    "        # vmin=0, vmax=15 - for controlling the colour limits\n",
    "        ax.set(xlim=(xmin, xmax), ylim=(ymin, ymax))\n",
    "        ax.set_title(\"Regular Hexagon binning\")\n",
    "        ax.set_xlabel('Magentic Field (nT) across X position')\n",
    "        ax.set_ylabel('Magentic Field (nT) across Y position')\n",
    "        cb = fig.colorbar(hb, ax=ax)\n",
    "        cb.set_label('Counts')\n",
    "\n",
    "        ax = axs[1]\n",
    "        hb = ax.hexbin(x_data, y_data, bins='log', cmap='inferno', \n",
    "                       gridsize=(grid_setting,grid_setting))\n",
    "\n",
    "        ax.set(xlim=(xmin, xmax), ylim=(ymin, ymax))\n",
    "        ax.set_title(\"With a log color scale\")\n",
    "        ax.set_xlabel('Magentic Field (nT) across X position')\n",
    "        ax.set_ylabel('Magentic Field (nT) across Y position')\n",
    "        cb = fig.colorbar(hb, ax=ax)\n",
    "        cb.set_label('log10(N)')\n",
    "        \n",
    "        fig.suptitle(\"\"\"Magnetic Field Experiment - Day: {0}, Hour: {1}\"\"\".format(day, hr), \n",
    "                     size = 16)\n",
    "    \n",
    "\n",
    "frames = []\n",
    "for day in days_needed:\n",
    "    for hr in hours_needed:\n",
    "        data = ace_hour[(ace_hour.hr==hr) & (ace_hour.day==day)]\n",
    "        frame = space_plot(day=day, df=data)\n",
    "        frames.append(frame)\n",
    "\n",
    "gif.save(frames, 'magnetic_field_over_time.gif', duration=100)"
   ]
  },
  {
   "cell_type": "code",
   "execution_count": null,
   "metadata": {},
   "outputs": [],
   "source": [
    "xmin = ace_data.bgsex.min()\n",
    "xmax = ace_data.bgsex.max()\n",
    "ymin = ace_data.bgsey.min()\n",
    "ymax = ace_data.bgsey.max()\n",
    "\n",
    "fig, axs = plt.subplots(ncols=2, sharey=True, figsize=(14, 8))\n",
    "fig.subplots_adjust(hspace=0.5, left=0.07, right=0.93)\n",
    "ax = axs[0]\n",
    "hb = ax.hexbin(ace_data.bgsex, ace_data.bgsey, gridsize=50, cmap='inferno',  \n",
    "               vmin=0, vmax=200)\n",
    "ax.set(xlim=(xmin, xmax), ylim=(ymin, ymax))\n",
    "ax.set_title(\"Hexagon binning\")\n",
    "ax.set_xlabel('Magentic Field across X position')\n",
    "ax.set_ylabel('Magentic Field across y position')\n",
    "cb = fig.colorbar(hb, ax=ax)\n",
    "cb.set_label('counts')\n",
    "\n",
    "ax = axs[1]\n",
    "hb = ax.hexbin(ace_data.bgsex, ace_data.bgsey, gridsize=50, bins='log', cmap='inferno')\n",
    "\n",
    "ax.set(xlim=(xmin, xmax), ylim=(ymin, ymax))\n",
    "ax.set_title(\"With a log color scale\")\n",
    "ax.set_xlabel('Magentic Field across X position')\n",
    "ax.set_ylabel('Magentic Field across y position')\n",
    "cb = fig.colorbar(hb, ax=ax)\n",
    "cb.set_label('log10(N)')\n",
    "\n",
    "fig.suptitle('Magnetic Field Experiment - ACE Solar Probe\\nMagnetic Field Generation across X, Y Position of Spacecraft', \n",
    "             size = 16)\n",
    "\n",
    "plt.show()"
   ]
  },
  {
   "cell_type": "code",
   "execution_count": null,
   "metadata": {},
   "outputs": [],
   "source": [
    "@gif.frame\n",
    "def plot(i):\n",
    "    x = np.linspace(0, 2, 1000)\n",
    "    y = np.sin(2 * np.pi * (x - 0.01 * i))\n",
    "    plt.figure(figsize=(5, 3), dpi=100)\n",
    "    plt.plot(x, y, color='red')\n",
    "\n",
    "frames = []\n",
    "for i in range(100):\n",
    "    frame = plot(i)\n",
    "    frames.append(frame)\n",
    "\n",
    "gif.save(frames, \"examples/wave.gif\", duration=20)"
   ]
  },
  {
   "cell_type": "code",
   "execution_count": null,
   "metadata": {},
   "outputs": [],
   "source": [
    "# This makes the 3d scatter plot, man\n",
    "fig = plt.figure()\n",
    "ax = fig.add_subplot(111, projection='3d')\n",
    "\n",
    "x = ace_data['bgsex']\n",
    "y = ace_data['bgsey']\n",
    "z = ace_data['bgsez']\n",
    "\n",
    "ax.scatter(x, y, z, c='r', marker='o', alpha=0.1)\n",
    "\n",
    "ax.set_xlabel('X Label')\n",
    "ax.set_ylabel('Y Label')\n",
    "ax.set_zlabel('Z Label')\n",
    "\n",
    "plt.show()"
   ]
  },
  {
   "cell_type": "code",
   "execution_count": null,
   "metadata": {},
   "outputs": [],
   "source": [
    "plt.scatter(x,y, s=1, alpha=0.4, linewidths=3, c=z, cmap=plt.cm.coolwarm)\n",
    "plt.show()"
   ]
  },
  {
   "cell_type": "code",
   "execution_count": null,
   "metadata": {},
   "outputs": [],
   "source": [
    "# Make a histogram of each hour for day 48, across pos_gse_x\n",
    "# first, filter out the minute to 0, and then filter that to day 48\n",
    "ace_single_hour = ace_hour[(ace_hour.minute==0) & (ace_single_hour.day==48)]\n",
    "ace_single_hour.head()"
   ]
  },
  {
   "cell_type": "code",
   "execution_count": null,
   "metadata": {},
   "outputs": [],
   "source": [
    "_ = plt.hist(ace_single_hour['pos_gse_x'], bins='auto')  # arguments are passed to np.histogram\n",
    "plt.title(\"Histogram with 'auto' bins\")\n",
    "\n",
    "plt.show()"
   ]
  },
  {
   "cell_type": "code",
   "execution_count": null,
   "metadata": {},
   "outputs": [],
   "source": [
    "fig = plt.figure(figsize=(6,5))\n",
    "left, bottom, width, height = 0.1, 0.1, 0.8, 0.8\n",
    "ax = fig.add_axes([left, bottom, width, height]) \n",
    "\n",
    "start, stop, n_values = -8, 8, 800\n",
    "\n",
    "x_vals = np.linspace(start, stop, n_values)\n",
    "y_vals = np.linspace(start, stop, n_values)\n",
    "X, Y = np.meshgrid(x_vals, y_vals)\n",
    "\n",
    "\n",
    "Z = np.sqrt(X**2 + Y**2)"
   ]
  },
  {
   "cell_type": "code",
   "execution_count": null,
   "metadata": {},
   "outputs": [],
   "source": [
    "np.reshape(ace_single_hour['pos_gse_x'], newshape=9)\n",
    "\n",
    "cp = plt.contourf(X, Y, Z)\n",
    "plt.colorbar(cp)\n",
    "\n",
    "ax.set_title('Contour Plot')\n",
    "ax.set_xlabel('x (cm)')\n",
    "ax.set_ylabel('y (cm)')\n",
    "plt.show()"
   ]
  }
 ],
 "metadata": {
  "kernelspec": {
   "display_name": "Python 3",
   "language": "python",
   "name": "python3"
  },
  "language_info": {
   "codemirror_mode": {
    "name": "ipython",
    "version": 3
   },
   "file_extension": ".py",
   "mimetype": "text/x-python",
   "name": "python",
   "nbconvert_exporter": "python",
   "pygments_lexer": "ipython3",
   "version": "3.6.9"
  }
 },
 "nbformat": 4,
 "nbformat_minor": 2
}
